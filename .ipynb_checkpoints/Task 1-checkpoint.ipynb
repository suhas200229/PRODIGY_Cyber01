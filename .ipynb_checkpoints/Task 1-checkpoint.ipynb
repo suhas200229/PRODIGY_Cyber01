{
 "cells": [
  {
   "cell_type": "code",
   "execution_count": null,
   "id": "2be90fbc",
   "metadata": {},
   "outputs": [],
   "source": [
    "def caesar_cipher(text, shift, mode):\n",
    "    result = \"\"\n",
    "    for char in text:\n",
    "        if char.isalpha():\n",
    "            # Determine whether to encrypt or decrypt based on the mode\n",
    "            if mode == 'encrypt':\n",
    "                shifted = ord(char) + shift\n",
    "            elif mode == 'decrypt':\n",
    "                shifted = ord(char) - shift\n",
    "            # Adjust for uppercase letters\n",
    "            if char.isupper():\n",
    "                if shifted > ord('Z'):\n",
    "                    shifted -= 26\n",
    "                elif shifted < ord('A'):\n",
    "                    shifted += 26\n",
    "            # Adjust for lowercase letters\n",
    "            elif char.islower():\n",
    "                if shifted > ord('z'):\n",
    "                    shifted -= 26\n",
    "                elif shifted < ord('a'):\n",
    "                    shifted += 26\n",
    "            result += chr(shifted)\n",
    "        else:\n",
    "            result += char\n",
    "    return result\n",
    "\n",
    "def main():\n",
    "    while True:\n",
    "        mode = input(\"Enter 'encrypt' or 'decrypt': \").lower()\n",
    "        if mode not in ['encrypt', 'decrypt']:\n",
    "            print(\"Invalid mode! Please enter 'encrypt' or 'decrypt'.\")\n",
    "            continue\n",
    "        text = input(\"Enter your message: \")\n",
    "        shift = int(input(\"Enter the shift value: \"))\n",
    "        result = caesar_cipher(text, shift, mode)\n",
    "        print(\"Result:\", result)\n",
    "\n",
    "        choice = input(\"Do you want to continue? (yes/no): \")\n",
    "        if choice.lower() != 'yes':\n",
    "            break\n",
    "\n",
    "if __name__ == \"__main__\":\n",
    "    main()\n"
   ]
  }
 ],
 "metadata": {
  "kernelspec": {
   "display_name": "Python 3 (ipykernel)",
   "language": "python",
   "name": "python3"
  },
  "language_info": {
   "codemirror_mode": {
    "name": "ipython",
    "version": 3
   },
   "file_extension": ".py",
   "mimetype": "text/x-python",
   "name": "python",
   "nbconvert_exporter": "python",
   "pygments_lexer": "ipython3",
   "version": "3.9.7"
  }
 },
 "nbformat": 4,
 "nbformat_minor": 5
}
